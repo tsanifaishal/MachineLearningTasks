{
  "nbformat": 4,
  "nbformat_minor": 0,
  "metadata": {
    "colab": {
      "provenance": [],
      "mount_file_id": "1EaUp024MMGlASesF8KVINQyOzEJVhIrm",
      "authorship_tag": "ABX9TyPprY9eydL911buqLyUwqCN",
      "include_colab_link": true
    },
    "kernelspec": {
      "name": "python3",
      "display_name": "Python 3"
    },
    "language_info": {
      "name": "python"
    }
  },
  "cells": [
    {
      "cell_type": "markdown",
      "metadata": {
        "id": "view-in-github",
        "colab_type": "text"
      },
      "source": [
        "<a href=\"https://colab.research.google.com/github/tsanifaishal/MachineLearningTasks/blob/main/1stWeekTasks/Task1_M_Tsani_Faishal_Azhar_1103210143.ipynb\" target=\"_parent\"><img src=\"https://colab.research.google.com/assets/colab-badge.svg\" alt=\"Open In Colab\"/></a>"
      ]
    },
    {
      "cell_type": "markdown",
      "source": [
        "Nama :\n",
        "M Tsani Faishal Azhar\n",
        "NIM :\n",
        "1103210143\n",
        "Dataset :\n",
        "melb_data.csv\n",
        "Overview :\n",
        "Program ini dibuat untuk membangun model regresi pohon keputusan menggunakan data Melbourne Housing Market. Data tersebut dibagi menjadi set data latih dan uji, dan model regresi pohon keputusan dilatih menggunakan data latih. Selanjutnya, model dievaluasi menggunakan data uji dengan menghitung Mean Squared Error (MSE) sebagai metrik evaluasi.\n"
      ],
      "metadata": {
        "id": "P_kknEVDC7pF"
      }
    },
    {
      "cell_type": "code",
      "execution_count": 4,
      "metadata": {
        "id": "l1tget-M8h0N",
        "colab": {
          "base_uri": "https://localhost:8080/"
        },
        "outputId": "e2edca83-84c9-4e89-c0c6-c5b475739e97"
      },
      "outputs": [
        {
          "output_type": "stream",
          "name": "stdout",
          "text": [
            "Drive already mounted at /content/drive; to attempt to forcibly remount, call drive.mount(\"/content/drive\", force_remount=True).\n",
            "       Suburb           Address  Rooms Type    Price Method SellerG  \\\n",
            "0  Abbotsford      85 Turner St      2    h  1480000      S  Biggin   \n",
            "1  Abbotsford   25 Bloomburg St      2    h  1035000      S  Biggin   \n",
            "2  Abbotsford      5 Charles St      3    h  1465000     SP  Biggin   \n",
            "3  Abbotsford  40 Federation La      3    h   850000     PI  Biggin   \n",
            "4  Abbotsford       55a Park St      4    h  1600000     VB  Nelson   \n",
            "\n",
            "        Date  Distance  Postcode  ...  Bathroom  Car  Landsize  BuildingArea  \\\n",
            "0  3/12/2016       2.5      3067  ...         1  1.0       202           NaN   \n",
            "1   4/2/2016       2.5      3067  ...         1  0.0       156          79.0   \n",
            "2   4/3/2017       2.5      3067  ...         2  0.0       134         150.0   \n",
            "3   4/3/2017       2.5      3067  ...         2  1.0        94           NaN   \n",
            "4   4/6/2016       2.5      3067  ...         1  2.0       120         142.0   \n",
            "\n",
            "   YearBuilt  CouncilArea Lattitude  Longtitude             Regionname  \\\n",
            "0        NaN        Yarra  -37.7996    144.9984  Northern Metropolitan   \n",
            "1     1900.0        Yarra  -37.8079    144.9934  Northern Metropolitan   \n",
            "2     1900.0        Yarra  -37.8093    144.9944  Northern Metropolitan   \n",
            "3        NaN        Yarra  -37.7969    144.9969  Northern Metropolitan   \n",
            "4     2014.0        Yarra  -37.8072    144.9941  Northern Metropolitan   \n",
            "\n",
            "  Propertycount  \n",
            "0          4019  \n",
            "1          4019  \n",
            "2          4019  \n",
            "3          4019  \n",
            "4          4019  \n",
            "\n",
            "[5 rows x 21 columns]\n",
            "Mean Squared Error: 165177099765.50565\n"
          ]
        }
      ],
      "source": [
        "import pandas as pd\n",
        "from sklearn.model_selection import train_test_split\n",
        "from sklearn.tree import DecisionTreeRegressor\n",
        "from sklearn.metrics import mean_squared_error\n",
        "from google.colab import drive\n",
        "\n",
        "# Mounting Google Drive\n",
        "drive.mount('/content/drive')\n",
        "\n",
        "# Import data from Google Drive\n",
        "path_to_data = \"/content/drive/MyDrive/Dataset/melb_data.csv\"\n",
        "data_frame = pd.read_csv(path_to_data)\n",
        "\n",
        "print(data_frame.head())\n",
        "\n",
        "# Drop rows with missing values\n",
        "cleaned_data = data_frame.dropna()\n",
        "\n",
        "# Separate features (X) and target (y)\n",
        "features = cleaned_data.drop(['Price'], axis=1)\n",
        "features_encoded = pd.get_dummies(features, drop_first=True)\n",
        "target = cleaned_data['Price']\n",
        "\n",
        "# Split the data into training and test sets\n",
        "X_train, X_test, y_train, y_test = train_test_split(features_encoded, target, test_size=0.2, random_state=42)\n",
        "\n",
        "# Initialize Decision Tree model\n",
        "regressor_model = DecisionTreeRegressor(random_state=42)\n",
        "\n",
        "# Train the model on the training data\n",
        "regressor_model.fit(X_train, y_train)\n",
        "\n",
        "# Perform predictions on the test data\n",
        "y_pred = regressor_model.predict(X_test)\n",
        "\n",
        "# Evaluate model accuracy\n",
        "mean_squared_error_value = mean_squared_error(y_test, y_pred)\n",
        "print(\"Mean Squared Error:\", mean_squared_error_value)"
      ]
    }
  ]
}