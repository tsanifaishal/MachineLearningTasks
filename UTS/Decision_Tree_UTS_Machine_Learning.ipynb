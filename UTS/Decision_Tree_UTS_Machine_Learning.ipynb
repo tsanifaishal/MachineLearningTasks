{
  "nbformat": 4,
  "nbformat_minor": 0,
  "metadata": {
    "colab": {
      "provenance": [],
      "authorship_tag": "ABX9TyNpBzqJ8TifCy26nkw1dfTD",
      "include_colab_link": true
    },
    "kernelspec": {
      "name": "python3",
      "display_name": "Python 3"
    },
    "language_info": {
      "name": "python"
    }
  },
  "cells": [
    {
      "cell_type": "markdown",
      "metadata": {
        "id": "view-in-github",
        "colab_type": "text"
      },
      "source": [
        "<a href=\"https://colab.research.google.com/github/tsanifaishal/MachineLearningTasks/blob/main/UTS/Decision_Tree_UTS_Machine_Learning.ipynb\" target=\"_parent\"><img src=\"https://colab.research.google.com/assets/colab-badge.svg\" alt=\"Open In Colab\"/></a>"
      ]
    },
    {
      "cell_type": "markdown",
      "source": [
        "Nama : M Tsani Faishal Azhar"
      ],
      "metadata": {
        "id": "KAXc6hy5Pk4F"
      }
    },
    {
      "cell_type": "markdown",
      "source": [
        "NIM : 1103210143"
      ],
      "metadata": {
        "id": "wEHOcytRPoME"
      }
    },
    {
      "cell_type": "markdown",
      "source": [
        "Judul : Tugas UTS Machine learning model Decicion Tree dari data set Credit score classification"
      ],
      "metadata": {
        "id": "vQHzQhXPPqkV"
      }
    },
    {
      "cell_type": "code",
      "execution_count": 150,
      "metadata": {
        "colab": {
          "base_uri": "https://localhost:8080/"
        },
        "id": "koCZ7fJ8N9BU",
        "outputId": "9d9e5071-1a90-423f-8f34-dee340ab08ac"
      },
      "outputs": [
        {
          "output_type": "stream",
          "name": "stdout",
          "text": [
            "Drive already mounted at /content/drive; to attempt to forcibly remount, call drive.mount(\"/content/drive\", force_remount=True).\n"
          ]
        }
      ],
      "source": [
        "from google.colab import drive\n",
        "drive.mount('/content/drive')"
      ]
    },
    {
      "cell_type": "code",
      "source": [
        "import numpy as np\n",
        "import pandas as pd\n",
        "from sklearn import preprocessing\n",
        "from sklearn.tree import DecisionTreeClassifier"
      ],
      "metadata": {
        "id": "Kv8-bcu-QAbc"
      },
      "execution_count": 151,
      "outputs": []
    },
    {
      "cell_type": "code",
      "source": [
        "# Memasukan path data train dan data test\n",
        "pathTrain = \"/content/drive/MyDrive/Dataset/train.csv\"\n",
        "pathTest = \"/content/drive/MyDrive/Dataset/test.csv\"\n",
        "\n",
        "# Membaca dataset sebagai dataframe\n",
        "dataTrain = pd.read_csv(pathTrain)\n",
        "dataTest = pd.read_csv(pathTest)\n",
        "\n",
        "# Menampilkan beberapa baris pertama dari dataframe\n",
        "print(\"Data Train:\")\n",
        "print(dataTrain.head())\n",
        "print(\"Data Test:\")\n",
        "print(dataTest.head())"
      ],
      "metadata": {
        "colab": {
          "base_uri": "https://localhost:8080/"
        },
        "id": "sYrZcdi_QJ01",
        "outputId": "4dd0a68e-3093-488f-e268-b371e41899be"
      },
      "execution_count": 152,
      "outputs": [
        {
          "output_type": "stream",
          "name": "stderr",
          "text": [
            "<ipython-input-152-9ccb66a9c53d>:6: DtypeWarning: Columns (26) have mixed types. Specify dtype option on import or set low_memory=False.\n",
            "  dataTrain = pd.read_csv(pathTrain)\n"
          ]
        },
        {
          "output_type": "stream",
          "name": "stdout",
          "text": [
            "Data Train:\n",
            "       ID Customer_ID     Month           Name   Age          SSN Occupation  \\\n",
            "0  0x1602   CUS_0xd40   January  Aaron Maashoh    23  821-00-0265  Scientist   \n",
            "1  0x1603   CUS_0xd40  February  Aaron Maashoh    23  821-00-0265  Scientist   \n",
            "2  0x1604   CUS_0xd40     March  Aaron Maashoh  -500  821-00-0265  Scientist   \n",
            "3  0x1605   CUS_0xd40     April  Aaron Maashoh    23  821-00-0265  Scientist   \n",
            "4  0x1606   CUS_0xd40       May  Aaron Maashoh    23  821-00-0265  Scientist   \n",
            "\n",
            "  Annual_Income  Monthly_Inhand_Salary  Num_Bank_Accounts  ...  Credit_Mix  \\\n",
            "0      19114.12            1824.843333                  3  ...           _   \n",
            "1      19114.12                    NaN                  3  ...        Good   \n",
            "2      19114.12                    NaN                  3  ...        Good   \n",
            "3      19114.12                    NaN                  3  ...        Good   \n",
            "4      19114.12            1824.843333                  3  ...        Good   \n",
            "\n",
            "   Outstanding_Debt Credit_Utilization_Ratio     Credit_History_Age  \\\n",
            "0            809.98                26.822620  22 Years and 1 Months   \n",
            "1            809.98                31.944960                    NaN   \n",
            "2            809.98                28.609352  22 Years and 3 Months   \n",
            "3            809.98                31.377862  22 Years and 4 Months   \n",
            "4            809.98                24.797347  22 Years and 5 Months   \n",
            "\n",
            "   Payment_of_Min_Amount Total_EMI_per_month Amount_invested_monthly  \\\n",
            "0                     No           49.574949       80.41529543900253   \n",
            "1                     No           49.574949      118.28022162236736   \n",
            "2                     No           49.574949         81.699521264648   \n",
            "3                     No           49.574949       199.4580743910713   \n",
            "4                     No           49.574949      41.420153086217326   \n",
            "\n",
            "                  Payment_Behaviour     Monthly_Balance Credit_Score  \n",
            "0   High_spent_Small_value_payments  312.49408867943663         Good  \n",
            "1    Low_spent_Large_value_payments  284.62916249607184         Good  \n",
            "2   Low_spent_Medium_value_payments   331.2098628537912         Good  \n",
            "3    Low_spent_Small_value_payments  223.45130972736786         Good  \n",
            "4  High_spent_Medium_value_payments  341.48923103222177         Good  \n",
            "\n",
            "[5 rows x 28 columns]\n",
            "Data Test:\n",
            "       ID Customer_ID      Month             Name  Age          SSN  \\\n",
            "0  0x160a   CUS_0xd40  September    Aaron Maashoh   23  821-00-0265   \n",
            "1  0x160b   CUS_0xd40    October    Aaron Maashoh   24  821-00-0265   \n",
            "2  0x160c   CUS_0xd40   November    Aaron Maashoh   24  821-00-0265   \n",
            "3  0x160d   CUS_0xd40   December    Aaron Maashoh  24_  821-00-0265   \n",
            "4  0x1616  CUS_0x21b1  September  Rick Rothackerj   28  004-07-5839   \n",
            "\n",
            "  Occupation Annual_Income  Monthly_Inhand_Salary  Num_Bank_Accounts  ...  \\\n",
            "0  Scientist      19114.12            1824.843333                  3  ...   \n",
            "1  Scientist      19114.12            1824.843333                  3  ...   \n",
            "2  Scientist      19114.12            1824.843333                  3  ...   \n",
            "3  Scientist      19114.12                    NaN                  3  ...   \n",
            "4    _______      34847.84            3037.986667                  2  ...   \n",
            "\n",
            "   Num_Credit_Inquiries  Credit_Mix Outstanding_Debt Credit_Utilization_Ratio  \\\n",
            "0                2022.0        Good           809.98                35.030402   \n",
            "1                   4.0        Good           809.98                33.053114   \n",
            "2                   4.0        Good           809.98                33.811894   \n",
            "3                   4.0        Good           809.98                32.430559   \n",
            "4                   5.0        Good           605.03                25.926822   \n",
            "\n",
            "       Credit_History_Age Payment_of_Min_Amount Total_EMI_per_month  \\\n",
            "0   22 Years and 9 Months                    No           49.574949   \n",
            "1  22 Years and 10 Months                    No           49.574949   \n",
            "2                     NaN                    No           49.574949   \n",
            "3   23 Years and 0 Months                    No           49.574949   \n",
            "4   27 Years and 3 Months                    No           18.816215   \n",
            "\n",
            "   Amount_invested_monthly                 Payment_Behaviour  \\\n",
            "0       236.64268203272135    Low_spent_Small_value_payments   \n",
            "1       21.465380264657146  High_spent_Medium_value_payments   \n",
            "2       148.23393788500925   Low_spent_Medium_value_payments   \n",
            "3        39.08251089460281  High_spent_Medium_value_payments   \n",
            "4       39.684018417945296   High_spent_Large_value_payments   \n",
            "\n",
            "      Monthly_Balance  \n",
            "0  186.26670208571772  \n",
            "1  361.44400385378196  \n",
            "2  264.67544623342997  \n",
            "3  343.82687322383634  \n",
            "4   485.2984336755923  \n",
            "\n",
            "[5 rows x 27 columns]\n"
          ]
        }
      ]
    },
    {
      "cell_type": "code",
      "source": [
        "dataTrain.info()"
      ],
      "metadata": {
        "colab": {
          "base_uri": "https://localhost:8080/"
        },
        "id": "V77APzLtScNT",
        "outputId": "81e2b134-4388-4b4c-dcdf-f28f4a51c3df"
      },
      "execution_count": 153,
      "outputs": [
        {
          "output_type": "stream",
          "name": "stdout",
          "text": [
            "<class 'pandas.core.frame.DataFrame'>\n",
            "RangeIndex: 100000 entries, 0 to 99999\n",
            "Data columns (total 28 columns):\n",
            " #   Column                    Non-Null Count   Dtype  \n",
            "---  ------                    --------------   -----  \n",
            " 0   ID                        100000 non-null  object \n",
            " 1   Customer_ID               100000 non-null  object \n",
            " 2   Month                     100000 non-null  object \n",
            " 3   Name                      90015 non-null   object \n",
            " 4   Age                       100000 non-null  object \n",
            " 5   SSN                       100000 non-null  object \n",
            " 6   Occupation                100000 non-null  object \n",
            " 7   Annual_Income             100000 non-null  object \n",
            " 8   Monthly_Inhand_Salary     84998 non-null   float64\n",
            " 9   Num_Bank_Accounts         100000 non-null  int64  \n",
            " 10  Num_Credit_Card           100000 non-null  int64  \n",
            " 11  Interest_Rate             100000 non-null  int64  \n",
            " 12  Num_of_Loan               100000 non-null  object \n",
            " 13  Type_of_Loan              88592 non-null   object \n",
            " 14  Delay_from_due_date       100000 non-null  int64  \n",
            " 15  Num_of_Delayed_Payment    92998 non-null   object \n",
            " 16  Changed_Credit_Limit      100000 non-null  object \n",
            " 17  Num_Credit_Inquiries      98035 non-null   float64\n",
            " 18  Credit_Mix                100000 non-null  object \n",
            " 19  Outstanding_Debt          100000 non-null  object \n",
            " 20  Credit_Utilization_Ratio  100000 non-null  float64\n",
            " 21  Credit_History_Age        90970 non-null   object \n",
            " 22  Payment_of_Min_Amount     100000 non-null  object \n",
            " 23  Total_EMI_per_month       100000 non-null  float64\n",
            " 24  Amount_invested_monthly   95521 non-null   object \n",
            " 25  Payment_Behaviour         100000 non-null  object \n",
            " 26  Monthly_Balance           98800 non-null   object \n",
            " 27  Credit_Score              100000 non-null  object \n",
            "dtypes: float64(4), int64(4), object(20)\n",
            "memory usage: 21.4+ MB\n"
          ]
        }
      ]
    },
    {
      "cell_type": "markdown",
      "source": [
        "#Pre-processing"
      ],
      "metadata": {
        "id": "zD3sWe8tY8tu"
      }
    },
    {
      "cell_type": "code",
      "source": [
        "# # Mengubah kolom 'Age' menjadi numerik\n",
        "# dataTrain['Age'] = pd.to_numeric(dataTrain['Age'], errors='coerce')\n",
        "# dataTest['Age'] = pd.to_numeric(dataTest['Age'], errors='coerce')\n",
        "\n",
        "# Mengubah semua kolom yang seharusnya berisi nilai numerik menjadi numerik\n",
        "numeric_columns = ['Age', 'Annual_Income', 'Monthly_Inhand_Salary', 'Num_of_Loan', 'Num_Credit_Inquiries', 'Credit_Utilization_Ratio', 'Total_EMI_per_month', 'Monthly_Balance']\n",
        "\n",
        "for column in numeric_columns:\n",
        "    dataTrain[column] = pd.to_numeric(dataTrain[column], errors='coerce')\n",
        "    dataTest[column] = pd.to_numeric(dataTest[column], errors='coerce')\n",
        "\n",
        "# Mengisi nilai yang hilang pada kolom 'Age' dengan median\n",
        "median_age = dataTrain['Age'].median()\n",
        "dataTrain['Age'].fillna(median_age, inplace=True)\n",
        "dataTest['Age'].fillna(median_age, inplace=True)\n",
        "\n",
        "# Menghilangkan kolom yang tidak diperlukan\n",
        "dataTrain.drop(['ID', 'Customer_ID', 'Month', 'Name', 'SSN'], axis=1, inplace=True)\n",
        "dataTest.drop(['ID', 'Customer_ID', 'Month', 'Name', 'SSN'], axis=1, inplace=True)\n",
        "\n",
        "# Mengisi nilai yang hilang pada kolom 'Monthly_Inhand_Salary' dengan median\n",
        "median_salary = dataTrain['Monthly_Inhand_Salary'].median()\n",
        "dataTrain['Monthly_Inhand_Salary'].fillna(median_salary, inplace=True)\n",
        "dataTest['Monthly_Inhand_Salary'].fillna(median_salary, inplace=True)\n",
        "\n",
        "# Mengisi nilai yang hilang pada kolom 'Num_of_Delayed_Payment' dengan 0\n",
        "dataTrain['Num_of_Delayed_Payment'].fillna(0, inplace=True)\n",
        "dataTest['Num_of_Delayed_Payment'].fillna(0, inplace=True)\n",
        "\n",
        "# Mengisi nilai yang hilang pada kolom 'Num_Credit_Inquiries' dengan median\n",
        "median_inquiries = dataTrain['Num_Credit_Inquiries'].median()\n",
        "dataTrain['Num_Credit_Inquiries'].fillna(median_inquiries, inplace=True)\n",
        "dataTest['Num_Credit_Inquiries'].fillna(median_inquiries, inplace=True)\n",
        "\n",
        "\n",
        "# Mengisi nilai yang hilang pada kolom 'Monthly_Balance' dengan median\n",
        "# median_balance = dataTrain['Monthly_Balance'].median()\n",
        "# dataTrain['Monthly_Balance'].fillna(median_balance, inplace=True)\n",
        "# dataTest['Monthly_Balance'].fillna(median_balance, inplace=True)\n",
        "\n",
        "# # Mengubah kolom-kolom kategorikal menjadi numerik menggunakan one-hot encoding\n",
        "# dataTrain = pd.get_dummies(dataTrain)\n",
        "# dataTest = pd.get_dummies(dataTest)\n",
        "\n",
        "# Memisahkan fitur (X) dan label (y) pada data train dan test\n",
        "X_train = dataTrain[['Age', 'Monthly_Inhand_Salary', 'Num_Credit_Inquiries', 'Credit_Utilization_Ratio', 'Total_EMI_per_month']].values\n",
        "y_train = dataTrain['Occupation']\n",
        "X_test = dataTest[['Age', 'Monthly_Inhand_Salary', 'Num_Credit_Inquiries', 'Credit_Utilization_Ratio', 'Total_EMI_per_month']].values\n",
        "y_test = dataTest['Occupation']"
      ],
      "metadata": {
        "id": "dgVcgaPKY_h9"
      },
      "execution_count": 154,
      "outputs": []
    },
    {
      "cell_type": "code",
      "source": [
        "X_train[0:5]"
      ],
      "metadata": {
        "colab": {
          "base_uri": "https://localhost:8080/"
        },
        "id": "apNluQpXf3mu",
        "outputId": "2c281e3b-96ee-4695-80a2-370b4ddda249"
      },
      "execution_count": 155,
      "outputs": [
        {
          "output_type": "execute_result",
          "data": {
            "text/plain": [
              "array([[  23.        , 1824.84333333,    4.        ,   26.82261962,\n",
              "          49.57494921],\n",
              "       [  23.        , 3093.745     ,    4.        ,   31.94496006,\n",
              "          49.57494921],\n",
              "       [-500.        , 3093.745     ,    4.        ,   28.60935202,\n",
              "          49.57494921],\n",
              "       [  23.        , 3093.745     ,    4.        ,   31.37786187,\n",
              "          49.57494921],\n",
              "       [  23.        , 1824.84333333,    4.        ,   24.79734691,\n",
              "          49.57494921]])"
            ]
          },
          "metadata": {},
          "execution_count": 155
        }
      ]
    },
    {
      "cell_type": "code",
      "source": [
        "y_train[0:5]"
      ],
      "metadata": {
        "colab": {
          "base_uri": "https://localhost:8080/"
        },
        "id": "eCwDVTw6gDnG",
        "outputId": "f9c86e11-9e70-4bf7-d7f9-ac2e7e33528d"
      },
      "execution_count": 156,
      "outputs": [
        {
          "output_type": "execute_result",
          "data": {
            "text/plain": [
              "0    Scientist\n",
              "1    Scientist\n",
              "2    Scientist\n",
              "3    Scientist\n",
              "4    Scientist\n",
              "Name: Occupation, dtype: object"
            ]
          },
          "metadata": {},
          "execution_count": 156
        }
      ]
    },
    {
      "cell_type": "code",
      "source": [
        "print(\"Data Train - Missing Values:\\n\", dataTrain.isnull().sum())\n",
        "print(\"\\nData Test - Missing Values:\\n\", dataTest.isnull().sum())\n"
      ],
      "metadata": {
        "colab": {
          "base_uri": "https://localhost:8080/"
        },
        "id": "Qem489kng_j1",
        "outputId": "d61c3d3b-3740-4882-c978-44d63f718113"
      },
      "execution_count": 157,
      "outputs": [
        {
          "output_type": "stream",
          "name": "stdout",
          "text": [
            "Data Train - Missing Values:\n",
            " Age                             0\n",
            "Occupation                      0\n",
            "Annual_Income                6980\n",
            "Monthly_Inhand_Salary           0\n",
            "Num_Bank_Accounts               0\n",
            "Num_Credit_Card                 0\n",
            "Interest_Rate                   0\n",
            "Num_of_Loan                  4785\n",
            "Type_of_Loan                11408\n",
            "Delay_from_due_date             0\n",
            "Num_of_Delayed_Payment          0\n",
            "Changed_Credit_Limit            0\n",
            "Num_Credit_Inquiries            0\n",
            "Credit_Mix                      0\n",
            "Outstanding_Debt                0\n",
            "Credit_Utilization_Ratio        0\n",
            "Credit_History_Age           9030\n",
            "Payment_of_Min_Amount           0\n",
            "Total_EMI_per_month             0\n",
            "Amount_invested_monthly      4479\n",
            "Payment_Behaviour               0\n",
            "Monthly_Balance              1209\n",
            "Credit_Score                    0\n",
            "dtype: int64\n",
            "\n",
            "Data Test - Missing Values:\n",
            " Age                            0\n",
            "Occupation                     0\n",
            "Annual_Income               3520\n",
            "Monthly_Inhand_Salary          0\n",
            "Num_Bank_Accounts              0\n",
            "Num_Credit_Card                0\n",
            "Interest_Rate                  0\n",
            "Num_of_Loan                 2436\n",
            "Type_of_Loan                5704\n",
            "Delay_from_due_date            0\n",
            "Num_of_Delayed_Payment         0\n",
            "Changed_Credit_Limit           0\n",
            "Num_Credit_Inquiries           0\n",
            "Credit_Mix                     0\n",
            "Outstanding_Debt               0\n",
            "Credit_Utilization_Ratio       0\n",
            "Credit_History_Age          4470\n",
            "Payment_of_Min_Amount          0\n",
            "Total_EMI_per_month            0\n",
            "Amount_invested_monthly     2271\n",
            "Payment_Behaviour              0\n",
            "Monthly_Balance              568\n",
            "dtype: int64\n"
          ]
        }
      ]
    },
    {
      "cell_type": "code",
      "source": [
        "# Membangun model Decision Tree Classifier\n",
        "model = DecisionTreeClassifier(criterion=\"gini\", max_depth = 10)\n",
        "model.fit(X_train, y_train)\n",
        "\n",
        "# Menguji model pada data test\n",
        "accuracy = model.score(X_test, y_test)\n",
        "print(\"Accuracy:\", accuracy)"
      ],
      "metadata": {
        "colab": {
          "base_uri": "https://localhost:8080/"
        },
        "id": "bNJBJRkzbptK",
        "outputId": "37d90e31-c924-4004-8de8-a64d82cec00a"
      },
      "execution_count": 158,
      "outputs": [
        {
          "output_type": "stream",
          "name": "stdout",
          "text": [
            "Accuracy: 0.12394\n"
          ]
        }
      ]
    }
  ]
}